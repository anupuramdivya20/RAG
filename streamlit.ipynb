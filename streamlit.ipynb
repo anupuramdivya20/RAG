{
 "cells": [
  {
   "cell_type": "code",
   "execution_count": null,
   "id": "3139f2e9-c630-4470-b466-854dddc17f80",
   "metadata": {},
   "outputs": [],
   "source": [
    "pip install streamlit\n",
    "pip show streamlit\n",
    "import streamlit as st\n",
    "\n",
    "st.title(\"RAG Pipeline Chat Interface\")\n",
    "st.write(\"Upload PDF files and ask questions!\")\n",
    "\n",
    "# File uploader\n",
    "uploaded_file = st.file_uploader(\"Upload a PDF\", type=\"pdf\")\n",
    "if uploaded_file:\n",
    "    st.write(\"File uploaded successfully!\")\n",
    "\n",
    "# Input query\n",
    "query = st.text_input(\"Ask a question:\")\n",
    "if query:\n",
    "    response = f\"Demo response for your query: {query}\"\n",
    "    st.write(\"### Response:\")\n",
    "    st.write(response)\n",
    "streamlit run app.py\n"
   ]
  }
 ],
 "metadata": {
  "kernelspec": {
   "display_name": "Python 3 (ipykernel)",
   "language": "python",
   "name": "python3"
  },
  "language_info": {
   "codemirror_mode": {
    "name": "ipython",
    "version": 3
   },
   "file_extension": ".py",
   "mimetype": "text/x-python",
   "name": "python",
   "nbconvert_exporter": "python",
   "pygments_lexer": "ipython3",
   "version": "3.12.4"
  }
 },
 "nbformat": 4,
 "nbformat_minor": 5
}
