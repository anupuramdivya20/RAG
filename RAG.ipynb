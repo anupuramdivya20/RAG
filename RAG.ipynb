{
 "cells": [
  {
   "cell_type": "code",
   "execution_count": 4,
   "id": "6ecc5e11-6699-446d-afe5-f42ea36a4b23",
   "metadata": {},
   "outputs": [
    {
     "name": "stdout",
     "output_type": "stream",
     "text": [
      "Requirement already satisfied: pdfplumber in c:\\users\\hp\\anaconda3\\lib\\site-packages (0.11.4)\n",
      "Requirement already satisfied: pdfminer.six==20231228 in c:\\users\\hp\\anaconda3\\lib\\site-packages (from pdfplumber) (20231228)\n",
      "Requirement already satisfied: Pillow>=9.1 in c:\\users\\hp\\anaconda3\\lib\\site-packages (from pdfplumber) (10.3.0)\n",
      "Requirement already satisfied: pypdfium2>=4.18.0 in c:\\users\\hp\\anaconda3\\lib\\site-packages (from pdfplumber) (4.30.0)\n",
      "Requirement already satisfied: charset-normalizer>=2.0.0 in c:\\users\\hp\\anaconda3\\lib\\site-packages (from pdfminer.six==20231228->pdfplumber) (2.0.4)\n",
      "Requirement already satisfied: cryptography>=36.0.0 in c:\\users\\hp\\anaconda3\\lib\\site-packages (from pdfminer.six==20231228->pdfplumber) (42.0.5)\n",
      "Requirement already satisfied: cffi>=1.12 in c:\\users\\hp\\anaconda3\\lib\\site-packages (from cryptography>=36.0.0->pdfminer.six==20231228->pdfplumber) (1.16.0)\n",
      "Requirement already satisfied: pycparser in c:\\users\\hp\\anaconda3\\lib\\site-packages (from cffi>=1.12->cryptography>=36.0.0->pdfminer.six==20231228->pdfplumber) (2.21)\n",
      "Note: you may need to restart the kernel to use updated packages.\n"
     ]
    }
   ],
   "source": [
    "pip install pdfplumber\n"
   ]
  },
  {
   "cell_type": "code",
   "execution_count": 5,
   "id": "4b6d9a80-2ff2-44a9-8f94-190fc001d466",
   "metadata": {},
   "outputs": [
    {
     "name": "stdout",
     "output_type": "stream",
     "text": [
      "Name: pdfplumber\n",
      "Version: 0.11.4\n",
      "Summary: Plumb a PDF for detailed information about each char, rectangle, and line.\n",
      "Home-page: https://github.com/jsvine/pdfplumber\n",
      "Author: Jeremy Singer-Vine\n",
      "Author-email: jsvine@gmail.com\n",
      "License: \n",
      "Location: C:\\Users\\HP\\anaconda3\\Lib\\site-packages\n",
      "Requires: pdfminer.six, Pillow, pypdfium2\n",
      "Required-by: \n",
      "Note: you may need to restart the kernel to use updated packages.\n"
     ]
    }
   ],
   "source": [
    "pip show pdfplumber\n"
   ]
  },
  {
   "cell_type": "code",
   "execution_count": 12,
   "id": "7e0d6e81-e3b4-4644-b4f2-854b9c51f778",
   "metadata": {},
   "outputs": [],
   "source": [
    "import pdfplumber\n",
    "\n",
    "def extract_text_from_pdf(pdf_path):\n",
    "    text = \"\"\n",
    "    with pdfplumber.open(pdf_path) as pdf:\n",
    "        for page in pdf.pages:\n",
    "            text += page.extract_text()\n",
    "    return text\n"
   ]
  },
  {
   "cell_type": "code",
   "execution_count": 16,
   "id": "4d6accb7-90b9-4496-a6e0-cbb018c7ad55",
   "metadata": {},
   "outputs": [
    {
     "name": "stdout",
     "output_type": "stream",
     "text": [
      "Requirement already satisfied: langchain in c:\\users\\hp\\anaconda3\\lib\\site-packages (0.3.12)\n",
      "Requirement already satisfied: PyYAML>=5.3 in c:\\users\\hp\\anaconda3\\lib\\site-packages (from langchain) (6.0.1)\n",
      "Requirement already satisfied: SQLAlchemy<3,>=1.4 in c:\\users\\hp\\anaconda3\\lib\\site-packages (from langchain) (2.0.30)\n",
      "Requirement already satisfied: aiohttp<4.0.0,>=3.8.3 in c:\\users\\hp\\anaconda3\\lib\\site-packages (from langchain) (3.9.5)\n",
      "Requirement already satisfied: langchain-core<0.4.0,>=0.3.25 in c:\\users\\hp\\anaconda3\\lib\\site-packages (from langchain) (0.3.25)\n",
      "Requirement already satisfied: langchain-text-splitters<0.4.0,>=0.3.3 in c:\\users\\hp\\anaconda3\\lib\\site-packages (from langchain) (0.3.3)\n",
      "Requirement already satisfied: langsmith<0.3,>=0.1.17 in c:\\users\\hp\\anaconda3\\lib\\site-packages (from langchain) (0.2.3)\n",
      "Requirement already satisfied: numpy<3,>=1.26.2 in c:\\users\\hp\\anaconda3\\lib\\site-packages (from langchain) (1.26.4)\n",
      "Requirement already satisfied: pydantic<3.0.0,>=2.7.4 in c:\\users\\hp\\anaconda3\\lib\\site-packages (from langchain) (2.10.3)\n",
      "Requirement already satisfied: requests<3,>=2 in c:\\users\\hp\\anaconda3\\lib\\site-packages (from langchain) (2.32.2)\n",
      "Requirement already satisfied: tenacity!=8.4.0,<10,>=8.1.0 in c:\\users\\hp\\anaconda3\\lib\\site-packages (from langchain) (8.2.2)\n",
      "Requirement already satisfied: aiosignal>=1.1.2 in c:\\users\\hp\\anaconda3\\lib\\site-packages (from aiohttp<4.0.0,>=3.8.3->langchain) (1.2.0)\n",
      "Requirement already satisfied: attrs>=17.3.0 in c:\\users\\hp\\anaconda3\\lib\\site-packages (from aiohttp<4.0.0,>=3.8.3->langchain) (23.1.0)\n",
      "Requirement already satisfied: frozenlist>=1.1.1 in c:\\users\\hp\\anaconda3\\lib\\site-packages (from aiohttp<4.0.0,>=3.8.3->langchain) (1.4.0)\n",
      "Requirement already satisfied: multidict<7.0,>=4.5 in c:\\users\\hp\\anaconda3\\lib\\site-packages (from aiohttp<4.0.0,>=3.8.3->langchain) (6.0.4)\n",
      "Requirement already satisfied: yarl<2.0,>=1.0 in c:\\users\\hp\\anaconda3\\lib\\site-packages (from aiohttp<4.0.0,>=3.8.3->langchain) (1.9.3)\n",
      "Requirement already satisfied: jsonpatch<2.0,>=1.33 in c:\\users\\hp\\anaconda3\\lib\\site-packages (from langchain-core<0.4.0,>=0.3.25->langchain) (1.33)\n",
      "Requirement already satisfied: packaging<25,>=23.2 in c:\\users\\hp\\anaconda3\\lib\\site-packages (from langchain-core<0.4.0,>=0.3.25->langchain) (23.2)\n",
      "Requirement already satisfied: typing-extensions>=4.7 in c:\\users\\hp\\anaconda3\\lib\\site-packages (from langchain-core<0.4.0,>=0.3.25->langchain) (4.12.2)\n",
      "Requirement already satisfied: httpx<1,>=0.23.0 in c:\\users\\hp\\anaconda3\\lib\\site-packages (from langsmith<0.3,>=0.1.17->langchain) (0.28.1)\n",
      "Requirement already satisfied: orjson<4.0.0,>=3.9.14 in c:\\users\\hp\\anaconda3\\lib\\site-packages (from langsmith<0.3,>=0.1.17->langchain) (3.10.12)\n",
      "Requirement already satisfied: requests-toolbelt<2.0.0,>=1.0.0 in c:\\users\\hp\\anaconda3\\lib\\site-packages (from langsmith<0.3,>=0.1.17->langchain) (1.0.0)\n",
      "Requirement already satisfied: annotated-types>=0.6.0 in c:\\users\\hp\\anaconda3\\lib\\site-packages (from pydantic<3.0.0,>=2.7.4->langchain) (0.6.0)\n",
      "Requirement already satisfied: pydantic-core==2.27.1 in c:\\users\\hp\\anaconda3\\lib\\site-packages (from pydantic<3.0.0,>=2.7.4->langchain) (2.27.1)\n",
      "Requirement already satisfied: charset-normalizer<4,>=2 in c:\\users\\hp\\anaconda3\\lib\\site-packages (from requests<3,>=2->langchain) (2.0.4)\n",
      "Requirement already satisfied: idna<4,>=2.5 in c:\\users\\hp\\anaconda3\\lib\\site-packages (from requests<3,>=2->langchain) (3.7)\n",
      "Requirement already satisfied: urllib3<3,>=1.21.1 in c:\\users\\hp\\anaconda3\\lib\\site-packages (from requests<3,>=2->langchain) (2.2.2)\n",
      "Requirement already satisfied: certifi>=2017.4.17 in c:\\users\\hp\\anaconda3\\lib\\site-packages (from requests<3,>=2->langchain) (2024.6.2)\n",
      "Requirement already satisfied: greenlet!=0.4.17 in c:\\users\\hp\\anaconda3\\lib\\site-packages (from SQLAlchemy<3,>=1.4->langchain) (3.0.1)\n",
      "Requirement already satisfied: anyio in c:\\users\\hp\\anaconda3\\lib\\site-packages (from httpx<1,>=0.23.0->langsmith<0.3,>=0.1.17->langchain) (4.2.0)\n",
      "Requirement already satisfied: httpcore==1.* in c:\\users\\hp\\anaconda3\\lib\\site-packages (from httpx<1,>=0.23.0->langsmith<0.3,>=0.1.17->langchain) (1.0.7)\n",
      "Requirement already satisfied: h11<0.15,>=0.13 in c:\\users\\hp\\anaconda3\\lib\\site-packages (from httpcore==1.*->httpx<1,>=0.23.0->langsmith<0.3,>=0.1.17->langchain) (0.14.0)\n",
      "Requirement already satisfied: jsonpointer>=1.9 in c:\\users\\hp\\anaconda3\\lib\\site-packages (from jsonpatch<2.0,>=1.33->langchain-core<0.4.0,>=0.3.25->langchain) (2.1)\n",
      "Requirement already satisfied: sniffio>=1.1 in c:\\users\\hp\\anaconda3\\lib\\site-packages (from anyio->httpx<1,>=0.23.0->langsmith<0.3,>=0.1.17->langchain) (1.3.0)\n",
      "Note: you may need to restart the kernel to use updated packages.\n"
     ]
    }
   ],
   "source": [
    "pip install langchain"
   ]
  },
  {
   "cell_type": "code",
   "execution_count": 17,
   "id": "bcdc8290-3dec-471e-b142-6dee3f36a682",
   "metadata": {},
   "outputs": [
    {
     "name": "stdout",
     "output_type": "stream",
     "text": [
      "Name: langchain\n",
      "Version: 0.3.12\n",
      "Summary: Building applications with LLMs through composability\n",
      "Home-page: https://github.com/langchain-ai/langchain\n",
      "Author: \n",
      "Author-email: \n",
      "License: MIT\n",
      "Location: C:\\Users\\HP\\anaconda3\\Lib\\site-packages\n",
      "Requires: aiohttp, langchain-core, langchain-text-splitters, langsmith, numpy, pydantic, PyYAML, requests, SQLAlchemy, tenacity\n",
      "Required-by: \n",
      "Note: you may need to restart the kernel to use updated packages.\n"
     ]
    }
   ],
   "source": [
    "pip show langchain\n"
   ]
  },
  {
   "cell_type": "code",
   "execution_count": 18,
   "id": "eb11a8df-fb4a-4312-870b-b8b681958bd6",
   "metadata": {},
   "outputs": [],
   "source": [
    "from langchain.text_splitter import RecursiveCharacterTextSplitter\n",
    "\n",
    "def split_text_into_chunks(text, chunk_size=500, chunk_overlap=50):\n",
    "    splitter = RecursiveCharacterTextSplitter(chunk_size=chunk_size, chunk_overlap=chunk_overlap)\n",
    "    return splitter.split_text(text)\n"
   ]
  },
  {
   "cell_type": "code",
   "execution_count": 21,
   "id": "0462100b-6686-44fd-ade1-0e3faefeb568",
   "metadata": {},
   "outputs": [
    {
     "name": "stdout",
     "output_type": "stream",
     "text": [
      "Requirement already satisfied: sentence-transformers in c:\\users\\hp\\anaconda3\\lib\\site-packages (3.3.1)\n",
      "Requirement already satisfied: transformers<5.0.0,>=4.41.0 in c:\\users\\hp\\anaconda3\\lib\\site-packages (from sentence-transformers) (4.47.1)\n",
      "Requirement already satisfied: tqdm in c:\\users\\hp\\anaconda3\\lib\\site-packages (from sentence-transformers) (4.66.4)\n",
      "Requirement already satisfied: torch>=1.11.0 in c:\\users\\hp\\anaconda3\\lib\\site-packages (from sentence-transformers) (2.5.1)\n",
      "Requirement already satisfied: scikit-learn in c:\\users\\hp\\anaconda3\\lib\\site-packages (from sentence-transformers) (1.5.1)\n",
      "Requirement already satisfied: scipy in c:\\users\\hp\\anaconda3\\lib\\site-packages (from sentence-transformers) (1.13.1)\n",
      "Requirement already satisfied: huggingface-hub>=0.20.0 in c:\\users\\hp\\anaconda3\\lib\\site-packages (from sentence-transformers) (0.27.0)\n",
      "Requirement already satisfied: Pillow in c:\\users\\hp\\anaconda3\\lib\\site-packages (from sentence-transformers) (10.3.0)\n",
      "Requirement already satisfied: filelock in c:\\users\\hp\\anaconda3\\lib\\site-packages (from huggingface-hub>=0.20.0->sentence-transformers) (3.13.1)\n",
      "Requirement already satisfied: fsspec>=2023.5.0 in c:\\users\\hp\\anaconda3\\lib\\site-packages (from huggingface-hub>=0.20.0->sentence-transformers) (2024.3.1)\n",
      "Requirement already satisfied: packaging>=20.9 in c:\\users\\hp\\anaconda3\\lib\\site-packages (from huggingface-hub>=0.20.0->sentence-transformers) (23.2)\n",
      "Requirement already satisfied: pyyaml>=5.1 in c:\\users\\hp\\anaconda3\\lib\\site-packages (from huggingface-hub>=0.20.0->sentence-transformers) (6.0.1)\n",
      "Requirement already satisfied: requests in c:\\users\\hp\\anaconda3\\lib\\site-packages (from huggingface-hub>=0.20.0->sentence-transformers) (2.32.2)\n",
      "Requirement already satisfied: typing-extensions>=3.7.4.3 in c:\\users\\hp\\anaconda3\\lib\\site-packages (from huggingface-hub>=0.20.0->sentence-transformers) (4.12.2)\n",
      "Requirement already satisfied: networkx in c:\\users\\hp\\anaconda3\\lib\\site-packages (from torch>=1.11.0->sentence-transformers) (3.2.1)\n",
      "Requirement already satisfied: jinja2 in c:\\users\\hp\\anaconda3\\lib\\site-packages (from torch>=1.11.0->sentence-transformers) (3.1.4)\n",
      "Requirement already satisfied: setuptools in c:\\users\\hp\\anaconda3\\lib\\site-packages (from torch>=1.11.0->sentence-transformers) (69.5.1)\n",
      "Requirement already satisfied: sympy==1.13.1 in c:\\users\\hp\\anaconda3\\lib\\site-packages (from torch>=1.11.0->sentence-transformers) (1.13.1)\n",
      "Requirement already satisfied: mpmath<1.4,>=1.1.0 in c:\\users\\hp\\anaconda3\\lib\\site-packages (from sympy==1.13.1->torch>=1.11.0->sentence-transformers) (1.3.0)\n",
      "Requirement already satisfied: colorama in c:\\users\\hp\\anaconda3\\lib\\site-packages (from tqdm->sentence-transformers) (0.4.6)\n",
      "Requirement already satisfied: numpy>=1.17 in c:\\users\\hp\\anaconda3\\lib\\site-packages (from transformers<5.0.0,>=4.41.0->sentence-transformers) (1.26.4)\n",
      "Requirement already satisfied: regex!=2019.12.17 in c:\\users\\hp\\anaconda3\\lib\\site-packages (from transformers<5.0.0,>=4.41.0->sentence-transformers) (2023.10.3)\n",
      "Requirement already satisfied: tokenizers<0.22,>=0.21 in c:\\users\\hp\\anaconda3\\lib\\site-packages (from transformers<5.0.0,>=4.41.0->sentence-transformers) (0.21.0)\n",
      "Requirement already satisfied: safetensors>=0.4.1 in c:\\users\\hp\\anaconda3\\lib\\site-packages (from transformers<5.0.0,>=4.41.0->sentence-transformers) (0.4.5)\n",
      "Requirement already satisfied: joblib>=1.2.0 in c:\\users\\hp\\anaconda3\\lib\\site-packages (from scikit-learn->sentence-transformers) (1.4.2)\n",
      "Requirement already satisfied: threadpoolctl>=3.1.0 in c:\\users\\hp\\anaconda3\\lib\\site-packages (from scikit-learn->sentence-transformers) (3.5.0)\n",
      "Requirement already satisfied: MarkupSafe>=2.0 in c:\\users\\hp\\anaconda3\\lib\\site-packages (from jinja2->torch>=1.11.0->sentence-transformers) (2.1.3)\n",
      "Requirement already satisfied: charset-normalizer<4,>=2 in c:\\users\\hp\\anaconda3\\lib\\site-packages (from requests->huggingface-hub>=0.20.0->sentence-transformers) (2.0.4)\n",
      "Requirement already satisfied: idna<4,>=2.5 in c:\\users\\hp\\anaconda3\\lib\\site-packages (from requests->huggingface-hub>=0.20.0->sentence-transformers) (3.7)\n",
      "Requirement already satisfied: urllib3<3,>=1.21.1 in c:\\users\\hp\\anaconda3\\lib\\site-packages (from requests->huggingface-hub>=0.20.0->sentence-transformers) (2.2.2)\n",
      "Requirement already satisfied: certifi>=2017.4.17 in c:\\users\\hp\\anaconda3\\lib\\site-packages (from requests->huggingface-hub>=0.20.0->sentence-transformers) (2024.6.2)\n",
      "Note: you may need to restart the kernel to use updated packages.\n"
     ]
    }
   ],
   "source": [
    "pip install sentence-transformers\n"
   ]
  },
  {
   "cell_type": "code",
   "execution_count": 1,
   "id": "1845000b-64a7-4c01-a4ab-cc6aa9cc5658",
   "metadata": {},
   "outputs": [
    {
     "name": "stdout",
     "output_type": "stream",
     "text": [
      "Name: sentence-transformers\n",
      "Version: 3.3.1\n",
      "Summary: State-of-the-Art Text Embeddings\n",
      "Home-page: \n",
      "Author: \n",
      "Author-email: Nils Reimers <info@nils-reimers.de>, Tom Aarsen <tom.aarsen@huggingface.co>\n",
      "License: Apache 2.0\n",
      "Location: C:\\Users\\HP\\anaconda3\\Lib\\site-packages\n",
      "Requires: huggingface-hub, Pillow, scikit-learn, scipy, torch, tqdm, transformers\n",
      "Required-by: \n",
      "Note: you may need to restart the kernel to use updated packages.\n"
     ]
    }
   ],
   "source": [
    "pip show sentence-transformers\n"
   ]
  },
  {
   "cell_type": "code",
   "execution_count": 2,
   "id": "ddc277f2-98f7-4384-9d78-ab6046d67259",
   "metadata": {},
   "outputs": [],
   "source": [
    "from sentence_transformers import SentenceTransformer\n",
    "\n",
    "def create_embeddings(chunks):\n",
    "    model = SentenceTransformer('all-MiniLM-L6-v2')\n",
    "    return [model.encode(chunk) for chunk in chunks]"
   ]
  },
  {
   "cell_type": "code",
   "execution_count": 4,
   "id": "c84eaaa1-168e-46c3-a6c2-1ab9a522f96c",
   "metadata": {},
   "outputs": [
    {
     "name": "stdout",
     "output_type": "stream",
     "text": [
      "Collecting faiss-cpu\n",
      "  Downloading faiss_cpu-1.9.0.post1-cp312-cp312-win_amd64.whl.metadata (4.5 kB)\n",
      "Requirement already satisfied: numpy<3.0,>=1.25.0 in c:\\users\\hp\\anaconda3\\lib\\site-packages (from faiss-cpu) (1.26.4)\n",
      "Requirement already satisfied: packaging in c:\\users\\hp\\anaconda3\\lib\\site-packages (from faiss-cpu) (23.2)\n",
      "Downloading faiss_cpu-1.9.0.post1-cp312-cp312-win_amd64.whl (13.8 MB)\n",
      "   ---------------------------------------- 0.0/13.8 MB ? eta -:--:--\n",
      "   ---------------------------------------- 0.0/13.8 MB ? eta -:--:--\n",
      "   ---------------------------------------- 0.0/13.8 MB ? eta -:--:--\n",
      "   ---------------------------------------- 0.0/13.8 MB ? eta -:--:--\n",
      "   ---------------------------------------- 0.0/13.8 MB ? eta -:--:--\n",
      "   ---------------------------------------- 0.1/13.8 MB 273.8 kB/s eta 0:00:51\n",
      "   ---------------------------------------- 0.1/13.8 MB 273.8 kB/s eta 0:00:51\n",
      "   ---------------------------------------- 0.1/13.8 MB 273.8 kB/s eta 0:00:51\n",
      "   ---------------------------------------- 0.1/13.8 MB 273.8 kB/s eta 0:00:51\n",
      "   ---------------------------------------- 0.2/13.8 MB 378.3 kB/s eta 0:00:37\n",
      "    --------------------------------------- 0.2/13.8 MB 406.9 kB/s eta 0:00:34\n",
      "    --------------------------------------- 0.2/13.8 MB 430.1 kB/s eta 0:00:32\n",
      "    --------------------------------------- 0.3/13.8 MB 580.3 kB/s eta 0:00:24\n",
      "   - -------------------------------------- 0.4/13.8 MB 672.6 kB/s eta 0:00:20\n",
      "   - -------------------------------------- 0.5/13.8 MB 764.9 kB/s eta 0:00:18\n",
      "   - -------------------------------------- 0.6/13.8 MB 874.0 kB/s eta 0:00:16\n",
      "   -- ------------------------------------- 0.7/13.8 MB 969.4 kB/s eta 0:00:14\n",
      "   -- ------------------------------------- 0.8/13.8 MB 1.0 MB/s eta 0:00:13\n",
      "   -- ------------------------------------- 0.9/13.8 MB 1.1 MB/s eta 0:00:13\n",
      "   -- ------------------------------------- 1.0/13.8 MB 1.2 MB/s eta 0:00:12\n",
      "   --- ------------------------------------ 1.2/13.8 MB 1.2 MB/s eta 0:00:11\n",
      "   --- ------------------------------------ 1.2/13.8 MB 1.3 MB/s eta 0:00:11\n",
      "   --- ------------------------------------ 1.2/13.8 MB 1.3 MB/s eta 0:00:11\n",
      "   --- ------------------------------------ 1.2/13.8 MB 1.3 MB/s eta 0:00:11\n",
      "   --- ------------------------------------ 1.4/13.8 MB 1.2 MB/s eta 0:00:11\n",
      "   --- ------------------------------------ 1.4/13.8 MB 1.2 MB/s eta 0:00:11\n",
      "   --- ------------------------------------ 1.4/13.8 MB 1.2 MB/s eta 0:00:11\n",
      "   --- ------------------------------------ 1.4/13.8 MB 1.2 MB/s eta 0:00:11\n",
      "   ---- ----------------------------------- 1.5/13.8 MB 1.1 MB/s eta 0:00:11\n",
      "   ---- ----------------------------------- 1.5/13.8 MB 1.1 MB/s eta 0:00:11\n",
      "   ---- ----------------------------------- 1.5/13.8 MB 1.1 MB/s eta 0:00:11\n",
      "   ---- ----------------------------------- 1.5/13.8 MB 1.1 MB/s eta 0:00:11\n",
      "   ---- ----------------------------------- 1.6/13.8 MB 1.0 MB/s eta 0:00:12\n",
      "   ---- ----------------------------------- 1.7/13.8 MB 1.1 MB/s eta 0:00:11\n",
      "   ---- ----------------------------------- 1.7/13.8 MB 1.1 MB/s eta 0:00:11\n",
      "   ---- ----------------------------------- 1.7/13.8 MB 1.1 MB/s eta 0:00:11\n",
      "   ---- ----------------------------------- 1.7/13.8 MB 1.1 MB/s eta 0:00:11\n",
      "   ----- ---------------------------------- 1.9/13.8 MB 1.1 MB/s eta 0:00:12\n",
      "   ----- ---------------------------------- 2.0/13.8 MB 1.1 MB/s eta 0:00:11\n",
      "   ----- ---------------------------------- 2.0/13.8 MB 1.1 MB/s eta 0:00:11\n",
      "   ----- ---------------------------------- 2.0/13.8 MB 1.1 MB/s eta 0:00:11\n",
      "   ------ --------------------------------- 2.2/13.8 MB 1.1 MB/s eta 0:00:11\n",
      "   ------ --------------------------------- 2.2/13.8 MB 1.1 MB/s eta 0:00:11\n",
      "   ------ --------------------------------- 2.3/13.8 MB 1.1 MB/s eta 0:00:11\n",
      "   ------- -------------------------------- 2.4/13.8 MB 1.2 MB/s eta 0:00:10\n",
      "   ------- -------------------------------- 2.6/13.8 MB 1.2 MB/s eta 0:00:10\n",
      "   ------- -------------------------------- 2.7/13.8 MB 1.2 MB/s eta 0:00:10\n",
      "   -------- ------------------------------- 2.8/13.8 MB 1.2 MB/s eta 0:00:09\n",
      "   -------- ------------------------------- 2.9/13.8 MB 1.3 MB/s eta 0:00:09\n",
      "   -------- ------------------------------- 3.0/13.8 MB 1.3 MB/s eta 0:00:09\n",
      "   -------- ------------------------------- 3.1/13.8 MB 1.3 MB/s eta 0:00:09\n",
      "   --------- ------------------------------ 3.3/13.8 MB 1.3 MB/s eta 0:00:08\n",
      "   --------- ------------------------------ 3.4/13.8 MB 1.4 MB/s eta 0:00:08\n",
      "   ---------- ----------------------------- 3.5/13.8 MB 1.4 MB/s eta 0:00:08\n",
      "   ---------- ----------------------------- 3.7/13.8 MB 1.4 MB/s eta 0:00:08\n",
      "   ---------- ----------------------------- 3.8/13.8 MB 1.5 MB/s eta 0:00:07\n",
      "   ----------- ---------------------------- 3.9/13.8 MB 1.5 MB/s eta 0:00:07\n",
      "   ----------- ---------------------------- 4.0/13.8 MB 1.5 MB/s eta 0:00:07\n",
      "   ------------ --------------------------- 4.2/13.8 MB 1.5 MB/s eta 0:00:07\n",
      "   ------------ --------------------------- 4.4/13.8 MB 1.6 MB/s eta 0:00:07\n",
      "   ------------- -------------------------- 4.5/13.8 MB 1.6 MB/s eta 0:00:06\n",
      "   ------------- -------------------------- 4.6/13.8 MB 1.6 MB/s eta 0:00:06\n",
      "   ------------- -------------------------- 4.8/13.8 MB 1.6 MB/s eta 0:00:06\n",
      "   -------------- ------------------------- 5.0/13.8 MB 1.7 MB/s eta 0:00:06\n",
      "   -------------- ------------------------- 5.2/13.8 MB 1.7 MB/s eta 0:00:06\n",
      "   --------------- ------------------------ 5.3/13.8 MB 1.7 MB/s eta 0:00:05\n",
      "   --------------- ------------------------ 5.5/13.8 MB 1.7 MB/s eta 0:00:05\n",
      "   ---------------- ----------------------- 5.6/13.8 MB 1.8 MB/s eta 0:00:05\n",
      "   ---------------- ----------------------- 5.8/13.8 MB 1.8 MB/s eta 0:00:05\n",
      "   ----------------- ---------------------- 5.9/13.8 MB 1.8 MB/s eta 0:00:05\n",
      "   ----------------- ---------------------- 6.1/13.8 MB 1.8 MB/s eta 0:00:05\n",
      "   ----------------- ---------------------- 6.2/13.8 MB 1.8 MB/s eta 0:00:05\n",
      "   ------------------ --------------------- 6.3/13.8 MB 1.8 MB/s eta 0:00:05\n",
      "   ------------------ --------------------- 6.5/13.8 MB 1.9 MB/s eta 0:00:04\n",
      "   ------------------- -------------------- 6.7/13.8 MB 1.9 MB/s eta 0:00:04\n",
      "   ------------------- -------------------- 6.8/13.8 MB 1.9 MB/s eta 0:00:04\n",
      "   -------------------- ------------------- 6.9/13.8 MB 1.9 MB/s eta 0:00:04\n",
      "   -------------------- ------------------- 7.2/13.8 MB 2.0 MB/s eta 0:00:04\n",
      "   --------------------- ------------------ 7.3/13.8 MB 2.0 MB/s eta 0:00:04\n",
      "   --------------------- ------------------ 7.5/13.8 MB 2.0 MB/s eta 0:00:04\n",
      "   ---------------------- ----------------- 7.7/13.8 MB 2.0 MB/s eta 0:00:04\n",
      "   ---------------------- ----------------- 7.8/13.8 MB 2.0 MB/s eta 0:00:04\n",
      "   ---------------------- ----------------- 7.9/13.8 MB 2.0 MB/s eta 0:00:03\n",
      "   ----------------------- ---------------- 8.1/13.8 MB 2.0 MB/s eta 0:00:03\n",
      "   ----------------------- ---------------- 8.1/13.8 MB 2.0 MB/s eta 0:00:03\n",
      "   ----------------------- ---------------- 8.1/13.8 MB 2.0 MB/s eta 0:00:03\n",
      "   ----------------------- ---------------- 8.1/13.8 MB 2.0 MB/s eta 0:00:03\n",
      "   ----------------------- ---------------- 8.1/13.8 MB 2.0 MB/s eta 0:00:03\n",
      "   ----------------------- ---------------- 8.1/13.8 MB 2.0 MB/s eta 0:00:03\n",
      "   ------------------------- -------------- 8.8/13.8 MB 2.1 MB/s eta 0:00:03\n",
      "   ------------------------- -------------- 8.8/13.8 MB 2.1 MB/s eta 0:00:03\n",
      "   ------------------------- -------------- 9.0/13.8 MB 2.1 MB/s eta 0:00:03\n",
      "   -------------------------- ------------- 9.1/13.8 MB 2.1 MB/s eta 0:00:03\n",
      "   -------------------------- ------------- 9.3/13.8 MB 2.1 MB/s eta 0:00:03\n",
      "   --------------------------- ------------ 9.4/13.8 MB 2.1 MB/s eta 0:00:03\n",
      "   --------------------------- ------------ 9.5/13.8 MB 2.1 MB/s eta 0:00:03\n",
      "   --------------------------- ------------ 9.5/13.8 MB 2.1 MB/s eta 0:00:03\n",
      "   --------------------------- ------------ 9.6/13.8 MB 2.1 MB/s eta 0:00:03\n",
      "   ---------------------------- ----------- 9.8/13.8 MB 2.1 MB/s eta 0:00:02\n",
      "   ---------------------------- ----------- 9.9/13.8 MB 2.1 MB/s eta 0:00:02\n",
      "   ---------------------------- ----------- 10.0/13.8 MB 2.1 MB/s eta 0:00:02\n",
      "   ----------------------------- ---------- 10.1/13.8 MB 2.1 MB/s eta 0:00:02\n",
      "   ----------------------------- ---------- 10.3/13.8 MB 2.2 MB/s eta 0:00:02\n",
      "   ------------------------------ --------- 10.4/13.8 MB 2.3 MB/s eta 0:00:02\n",
      "   ------------------------------ --------- 10.5/13.8 MB 2.3 MB/s eta 0:00:02\n",
      "   ------------------------------ --------- 10.7/13.8 MB 2.3 MB/s eta 0:00:02\n",
      "   ------------------------------- -------- 10.8/13.8 MB 2.3 MB/s eta 0:00:02\n",
      "   ------------------------------- -------- 11.0/13.8 MB 2.4 MB/s eta 0:00:02\n",
      "   -------------------------------- ------- 11.1/13.8 MB 2.4 MB/s eta 0:00:02\n",
      "   -------------------------------- ------- 11.3/13.8 MB 2.4 MB/s eta 0:00:02\n",
      "   --------------------------------- ------ 11.5/13.8 MB 2.5 MB/s eta 0:00:01\n",
      "   --------------------------------- ------ 11.5/13.8 MB 2.5 MB/s eta 0:00:01\n",
      "   --------------------------------- ------ 11.6/13.8 MB 2.4 MB/s eta 0:00:01\n",
      "   ---------------------------------- ----- 11.8/13.8 MB 2.7 MB/s eta 0:00:01\n",
      "   ---------------------------------- ----- 11.9/13.8 MB 2.6 MB/s eta 0:00:01\n",
      "   ----------------------------------- ---- 12.2/13.8 MB 2.8 MB/s eta 0:00:01\n",
      "   ----------------------------------- ---- 12.3/13.8 MB 2.9 MB/s eta 0:00:01\n",
      "   ------------------------------------ --- 12.5/13.8 MB 2.9 MB/s eta 0:00:01\n",
      "   ------------------------------------ --- 12.7/13.8 MB 2.9 MB/s eta 0:00:01\n",
      "   ------------------------------------- -- 12.8/13.8 MB 2.9 MB/s eta 0:00:01\n",
      "   ------------------------------------- -- 13.0/13.8 MB 2.9 MB/s eta 0:00:01\n",
      "   ------------------------------------- -- 13.1/13.8 MB 2.9 MB/s eta 0:00:01\n",
      "   -------------------------------------- - 13.3/13.8 MB 2.9 MB/s eta 0:00:01\n",
      "   -------------------------------------- - 13.4/13.8 MB 2.9 MB/s eta 0:00:01\n",
      "   -------------------------------------- - 13.5/13.8 MB 2.9 MB/s eta 0:00:01\n",
      "   ---------------------------------------  13.6/13.8 MB 2.9 MB/s eta 0:00:01\n",
      "   ---------------------------------------  13.7/13.8 MB 2.9 MB/s eta 0:00:01\n",
      "   ---------------------------------------  13.8/13.8 MB 2.9 MB/s eta 0:00:01\n",
      "   ---------------------------------------  13.8/13.8 MB 2.9 MB/s eta 0:00:01\n",
      "   ---------------------------------------- 13.8/13.8 MB 2.9 MB/s eta 0:00:00\n",
      "Installing collected packages: faiss-cpu\n",
      "Successfully installed faiss-cpu-1.9.0.post1\n",
      "Note: you may need to restart the kernel to use updated packages.\n"
     ]
    }
   ],
   "source": [
    "pip install faiss-cpu\n"
   ]
  },
  {
   "cell_type": "code",
   "execution_count": 5,
   "id": "57dfee23-ae3f-423b-ad54-eed6f5bf1a3d",
   "metadata": {},
   "outputs": [
    {
     "name": "stdout",
     "output_type": "stream",
     "text": [
      "Name: faiss-cpu\n",
      "Version: 1.9.0.post1\n",
      "Summary: A library for efficient similarity search and clustering of dense vectors.\n",
      "Home-page: \n",
      "Author: \n",
      "Author-email: Kota Yamaguchi <yamaguchi_kota@cyberagent.co.jp>\n",
      "License: MIT License\n",
      "Location: C:\\Users\\HP\\anaconda3\\Lib\\site-packages\n",
      "Requires: numpy, packaging\n",
      "Required-by: \n",
      "Note: you may need to restart the kernel to use updated packages.\n"
     ]
    }
   ],
   "source": [
    "pip show faiss-cpu\n"
   ]
  },
  {
   "cell_type": "code",
   "execution_count": 6,
   "id": "21b39707-1ab6-4bda-a67d-56b477d1cd58",
   "metadata": {},
   "outputs": [],
   "source": [
    "import faiss\n",
    "import numpy as np\n",
    "\n",
    "def store_embeddings_in_faiss(embeddings):\n",
    "    dimension = len(embeddings[0])\n",
    "    index = faiss.IndexFlatL2(dimension)\n",
    "    index.add(np.array(embeddings))\n",
    "    return index"
   ]
  },
  {
   "cell_type": "code",
   "execution_count": 7,
   "id": "5d937f53-dbd4-4031-8ead-c5791167383e",
   "metadata": {},
   "outputs": [],
   "source": [
    "def retrieve_relevant_chunks(query, index, chunks, model):\n",
    "    query_embedding = model.encode([query])\n",
    "    distances, indices = index.search(np.array(query_embedding), k=5)  # Top 5 matches\n",
    "    return [chunks[i] for i in indices[0]]\n"
   ]
  },
  {
   "cell_type": "code",
   "execution_count": 9,
   "id": "74932846-8950-4685-8f27-9bd5bd31eb1b",
   "metadata": {},
   "outputs": [
    {
     "name": "stdout",
     "output_type": "stream",
     "text": [
      "Collecting openai\n",
      "  Downloading openai-1.58.1-py3-none-any.whl.metadata (27 kB)\n",
      "Requirement already satisfied: anyio<5,>=3.5.0 in c:\\users\\hp\\anaconda3\\lib\\site-packages (from openai) (4.2.0)\n",
      "Requirement already satisfied: distro<2,>=1.7.0 in c:\\users\\hp\\anaconda3\\lib\\site-packages (from openai) (1.9.0)\n",
      "Requirement already satisfied: httpx<1,>=0.23.0 in c:\\users\\hp\\anaconda3\\lib\\site-packages (from openai) (0.28.1)\n",
      "Collecting jiter<1,>=0.4.0 (from openai)\n",
      "  Downloading jiter-0.8.2-cp312-cp312-win_amd64.whl.metadata (5.3 kB)\n",
      "Requirement already satisfied: pydantic<3,>=1.9.0 in c:\\users\\hp\\anaconda3\\lib\\site-packages (from openai) (2.10.3)\n",
      "Requirement already satisfied: sniffio in c:\\users\\hp\\anaconda3\\lib\\site-packages (from openai) (1.3.0)\n",
      "Requirement already satisfied: tqdm>4 in c:\\users\\hp\\anaconda3\\lib\\site-packages (from openai) (4.66.4)\n",
      "Requirement already satisfied: typing-extensions<5,>=4.11 in c:\\users\\hp\\anaconda3\\lib\\site-packages (from openai) (4.12.2)\n",
      "Requirement already satisfied: idna>=2.8 in c:\\users\\hp\\anaconda3\\lib\\site-packages (from anyio<5,>=3.5.0->openai) (3.7)\n",
      "Requirement already satisfied: certifi in c:\\users\\hp\\anaconda3\\lib\\site-packages (from httpx<1,>=0.23.0->openai) (2024.6.2)\n",
      "Requirement already satisfied: httpcore==1.* in c:\\users\\hp\\anaconda3\\lib\\site-packages (from httpx<1,>=0.23.0->openai) (1.0.7)\n",
      "Requirement already satisfied: h11<0.15,>=0.13 in c:\\users\\hp\\anaconda3\\lib\\site-packages (from httpcore==1.*->httpx<1,>=0.23.0->openai) (0.14.0)\n",
      "Requirement already satisfied: annotated-types>=0.6.0 in c:\\users\\hp\\anaconda3\\lib\\site-packages (from pydantic<3,>=1.9.0->openai) (0.6.0)\n",
      "Requirement already satisfied: pydantic-core==2.27.1 in c:\\users\\hp\\anaconda3\\lib\\site-packages (from pydantic<3,>=1.9.0->openai) (2.27.1)\n",
      "Requirement already satisfied: colorama in c:\\users\\hp\\anaconda3\\lib\\site-packages (from tqdm>4->openai) (0.4.6)\n",
      "Downloading openai-1.58.1-py3-none-any.whl (454 kB)\n",
      "   ---------------------------------------- 0.0/454.3 kB ? eta -:--:--\n",
      "    --------------------------------------- 10.2/454.3 kB ? eta -:--:--\n",
      "    --------------------------------------- 10.2/454.3 kB ? eta -:--:--\n",
      "    --------------------------------------- 10.2/454.3 kB ? eta -:--:--\n",
      "   ------- ------------------------------- 81.9/454.3 kB 508.4 kB/s eta 0:00:01\n",
      "   ----------- -------------------------- 143.4/454.3 kB 607.9 kB/s eta 0:00:01\n",
      "   -------------------- ----------------- 245.8/454.3 kB 885.4 kB/s eta 0:00:01\n",
      "   ------------------------------- -------- 358.4/454.3 kB 1.1 MB/s eta 0:00:01\n",
      "   ---------------------------------------- 454.3/454.3 kB 1.2 MB/s eta 0:00:00\n",
      "Downloading jiter-0.8.2-cp312-cp312-win_amd64.whl (204 kB)\n",
      "   ---------------------------------------- 0.0/204.7 kB ? eta -:--:--\n",
      "   ---------------------- ----------------- 112.6/204.7 kB 6.4 MB/s eta 0:00:01\n",
      "   ---------------------- ----------------- 112.6/204.7 kB 6.4 MB/s eta 0:00:01\n",
      "   ---------------------- ----------------- 112.6/204.7 kB 6.4 MB/s eta 0:00:01\n",
      "   ---------------------- ----------------- 112.6/204.7 kB 6.4 MB/s eta 0:00:01\n",
      "   -------------------------------------- 204.7/204.7 kB 831.2 kB/s eta 0:00:00\n",
      "Installing collected packages: jiter, openai\n",
      "Successfully installed jiter-0.8.2 openai-1.58.1\n",
      "Note: you may need to restart the kernel to use updated packages.\n"
     ]
    }
   ],
   "source": [
    "pip install openai\n"
   ]
  },
  {
   "cell_type": "code",
   "execution_count": 10,
   "id": "e153a0fc-c044-435e-b73b-7218a0adb356",
   "metadata": {},
   "outputs": [
    {
     "name": "stdout",
     "output_type": "stream",
     "text": [
      "Name: openai\n",
      "Version: 1.58.1\n",
      "Summary: The official Python library for the openai API\n",
      "Home-page: \n",
      "Author: \n",
      "Author-email: OpenAI <support@openai.com>\n",
      "License: \n",
      "Location: C:\\Users\\HP\\anaconda3\\Lib\\site-packages\n",
      "Requires: anyio, distro, httpx, jiter, pydantic, sniffio, tqdm, typing-extensions\n",
      "Required-by: \n",
      "Note: you may need to restart the kernel to use updated packages.\n"
     ]
    }
   ],
   "source": [
    "pip show openai\n"
   ]
  },
  {
   "cell_type": "code",
   "execution_count": 11,
   "id": "c8ef07bd-e7fb-4292-b4d4-776b42195b56",
   "metadata": {},
   "outputs": [],
   "source": [
    "from openai import ChatCompletion\n",
    "\n",
    "def generate_response(query, context, model=\"gpt-3.5-turbo\"):\n",
    "    prompt = f\"Using the following context:\\n\\n{context}\\n\\nAnswer this question: {query}\"\n",
    "    response = ChatCompletion.create(model=model, messages=[{\"role\": \"user\", \"content\": prompt}])\n",
    "    return response['choices'][0]['message']['content']\n"
   ]
  },
  {
   "cell_type": "code",
   "execution_count": 12,
   "id": "f7448dca-c3ce-49d4-9572-f12b6763784e",
   "metadata": {},
   "outputs": [],
   "source": [
    "def compare_data(fields, chunks):\n",
    "    comparison_results = []\n",
    "    for field in fields:\n",
    "        for chunk in chunks:\n",
    "            if field in chunk:\n",
    "                comparison_results.append((field, chunk))\n",
    "    return comparison_results\n"
   ]
  },
  {
   "cell_type": "code",
   "execution_count": 13,
   "id": "4d606c88-c3c3-4162-8c10-41ed19d17fa3",
   "metadata": {},
   "outputs": [],
   "source": [
    "import pandas as pd\n",
    "\n",
    "def create_comparison_table(data):\n",
    "    df = pd.DataFrame(data, columns=[\"Field\", \"Details\"])\n",
    "    return df.to_string(index=False)\n"
   ]
  },
  {
   "cell_type": "code",
   "execution_count": 17,
   "id": "812b038b-4ddb-4e2e-a1ef-30277fc9b3e2",
   "metadata": {},
   "outputs": [
    {
     "name": "stdout",
     "output_type": "stream",
     "text": [
      "Requirement already satisfied: streamlit in c:\\users\\hp\\anaconda3\\lib\\site-packages (1.32.0)\n",
      "Requirement already satisfied: altair<6,>=4.0 in c:\\users\\hp\\anaconda3\\lib\\site-packages (from streamlit) (5.0.1)\n",
      "Requirement already satisfied: blinker<2,>=1.0.0 in c:\\users\\hp\\anaconda3\\lib\\site-packages (from streamlit) (1.6.2)\n",
      "Requirement already satisfied: cachetools<6,>=4.0 in c:\\users\\hp\\anaconda3\\lib\\site-packages (from streamlit) (5.3.3)\n",
      "Requirement already satisfied: click<9,>=7.0 in c:\\users\\hp\\anaconda3\\lib\\site-packages (from streamlit) (8.1.7)\n",
      "Requirement already satisfied: numpy<2,>=1.19.3 in c:\\users\\hp\\anaconda3\\lib\\site-packages (from streamlit) (1.26.4)\n",
      "Requirement already satisfied: packaging<24,>=16.8 in c:\\users\\hp\\anaconda3\\lib\\site-packages (from streamlit) (23.2)\n",
      "Requirement already satisfied: pandas<3,>=1.3.0 in c:\\users\\hp\\anaconda3\\lib\\site-packages (from streamlit) (2.2.2)\n",
      "Requirement already satisfied: pillow<11,>=7.1.0 in c:\\users\\hp\\anaconda3\\lib\\site-packages (from streamlit) (10.3.0)\n",
      "Requirement already satisfied: protobuf<5,>=3.20 in c:\\users\\hp\\anaconda3\\lib\\site-packages (from streamlit) (3.20.3)\n",
      "Requirement already satisfied: pyarrow>=7.0 in c:\\users\\hp\\anaconda3\\lib\\site-packages (from streamlit) (14.0.2)\n",
      "Requirement already satisfied: requests<3,>=2.27 in c:\\users\\hp\\anaconda3\\lib\\site-packages (from streamlit) (2.32.2)\n",
      "Requirement already satisfied: rich<14,>=10.14.0 in c:\\users\\hp\\anaconda3\\lib\\site-packages (from streamlit) (13.3.5)\n",
      "Requirement already satisfied: tenacity<9,>=8.1.0 in c:\\users\\hp\\anaconda3\\lib\\site-packages (from streamlit) (8.2.2)\n",
      "Requirement already satisfied: toml<2,>=0.10.1 in c:\\users\\hp\\anaconda3\\lib\\site-packages (from streamlit) (0.10.2)\n",
      "Requirement already satisfied: typing-extensions<5,>=4.3.0 in c:\\users\\hp\\anaconda3\\lib\\site-packages (from streamlit) (4.12.2)\n",
      "Requirement already satisfied: gitpython!=3.1.19,<4,>=3.0.7 in c:\\users\\hp\\anaconda3\\lib\\site-packages (from streamlit) (3.1.37)\n",
      "Requirement already satisfied: pydeck<1,>=0.8.0b4 in c:\\users\\hp\\anaconda3\\lib\\site-packages (from streamlit) (0.8.0)\n",
      "Requirement already satisfied: tornado<7,>=6.0.3 in c:\\users\\hp\\anaconda3\\lib\\site-packages (from streamlit) (6.4.1)\n",
      "Requirement already satisfied: watchdog>=2.1.5 in c:\\users\\hp\\anaconda3\\lib\\site-packages (from streamlit) (4.0.1)\n",
      "Requirement already satisfied: jinja2 in c:\\users\\hp\\anaconda3\\lib\\site-packages (from altair<6,>=4.0->streamlit) (3.1.4)\n",
      "Requirement already satisfied: jsonschema>=3.0 in c:\\users\\hp\\anaconda3\\lib\\site-packages (from altair<6,>=4.0->streamlit) (4.19.2)\n",
      "Requirement already satisfied: toolz in c:\\users\\hp\\anaconda3\\lib\\site-packages (from altair<6,>=4.0->streamlit) (0.12.0)\n",
      "Requirement already satisfied: colorama in c:\\users\\hp\\anaconda3\\lib\\site-packages (from click<9,>=7.0->streamlit) (0.4.6)\n",
      "Requirement already satisfied: gitdb<5,>=4.0.1 in c:\\users\\hp\\anaconda3\\lib\\site-packages (from gitpython!=3.1.19,<4,>=3.0.7->streamlit) (4.0.7)\n",
      "Requirement already satisfied: python-dateutil>=2.8.2 in c:\\users\\hp\\anaconda3\\lib\\site-packages (from pandas<3,>=1.3.0->streamlit) (2.9.0.post0)\n",
      "Requirement already satisfied: pytz>=2020.1 in c:\\users\\hp\\anaconda3\\lib\\site-packages (from pandas<3,>=1.3.0->streamlit) (2024.1)\n",
      "Requirement already satisfied: tzdata>=2022.7 in c:\\users\\hp\\anaconda3\\lib\\site-packages (from pandas<3,>=1.3.0->streamlit) (2023.3)\n",
      "Requirement already satisfied: charset-normalizer<4,>=2 in c:\\users\\hp\\anaconda3\\lib\\site-packages (from requests<3,>=2.27->streamlit) (2.0.4)\n",
      "Requirement already satisfied: idna<4,>=2.5 in c:\\users\\hp\\anaconda3\\lib\\site-packages (from requests<3,>=2.27->streamlit) (3.7)\n",
      "Requirement already satisfied: urllib3<3,>=1.21.1 in c:\\users\\hp\\anaconda3\\lib\\site-packages (from requests<3,>=2.27->streamlit) (2.2.2)\n",
      "Requirement already satisfied: certifi>=2017.4.17 in c:\\users\\hp\\anaconda3\\lib\\site-packages (from requests<3,>=2.27->streamlit) (2024.6.2)\n",
      "Requirement already satisfied: markdown-it-py<3.0.0,>=2.2.0 in c:\\users\\hp\\anaconda3\\lib\\site-packages (from rich<14,>=10.14.0->streamlit) (2.2.0)\n",
      "Requirement already satisfied: pygments<3.0.0,>=2.13.0 in c:\\users\\hp\\anaconda3\\lib\\site-packages (from rich<14,>=10.14.0->streamlit) (2.15.1)\n",
      "Requirement already satisfied: smmap<5,>=3.0.1 in c:\\users\\hp\\anaconda3\\lib\\site-packages (from gitdb<5,>=4.0.1->gitpython!=3.1.19,<4,>=3.0.7->streamlit) (4.0.0)\n",
      "Requirement already satisfied: MarkupSafe>=2.0 in c:\\users\\hp\\anaconda3\\lib\\site-packages (from jinja2->altair<6,>=4.0->streamlit) (2.1.3)\n",
      "Requirement already satisfied: attrs>=22.2.0 in c:\\users\\hp\\anaconda3\\lib\\site-packages (from jsonschema>=3.0->altair<6,>=4.0->streamlit) (23.1.0)\n",
      "Requirement already satisfied: jsonschema-specifications>=2023.03.6 in c:\\users\\hp\\anaconda3\\lib\\site-packages (from jsonschema>=3.0->altair<6,>=4.0->streamlit) (2023.7.1)\n",
      "Requirement already satisfied: referencing>=0.28.4 in c:\\users\\hp\\anaconda3\\lib\\site-packages (from jsonschema>=3.0->altair<6,>=4.0->streamlit) (0.30.2)\n",
      "Requirement already satisfied: rpds-py>=0.7.1 in c:\\users\\hp\\anaconda3\\lib\\site-packages (from jsonschema>=3.0->altair<6,>=4.0->streamlit) (0.10.6)\n",
      "Requirement already satisfied: mdurl~=0.1 in c:\\users\\hp\\anaconda3\\lib\\site-packages (from markdown-it-py<3.0.0,>=2.2.0->rich<14,>=10.14.0->streamlit) (0.1.0)\n",
      "Requirement already satisfied: six>=1.5 in c:\\users\\hp\\anaconda3\\lib\\site-packages (from python-dateutil>=2.8.2->pandas<3,>=1.3.0->streamlit) (1.16.0)\n",
      "Note: you may need to restart the kernel to use updated packages.\n"
     ]
    }
   ],
   "source": [
    "pip install streamlit\n"
   ]
  },
  {
   "cell_type": "code",
   "execution_count": 18,
   "id": "410c1f9b-e6e6-492a-9a9c-e5fcc776df7f",
   "metadata": {},
   "outputs": [
    {
     "name": "stdout",
     "output_type": "stream",
     "text": [
      "Name: streamlitNote: you may need to restart the kernel to use updated packages.\n",
      "\n",
      "Version: 1.32.0\n",
      "Summary: A faster way to build and share data apps\n",
      "Home-page: https://streamlit.io\n",
      "Author: Snowflake Inc\n",
      "Author-email: hello@streamlit.io\n",
      "License: Apache License 2.0\n",
      "Location: C:\\Users\\HP\\anaconda3\\Lib\\site-packages\n",
      "Requires: altair, blinker, cachetools, click, gitpython, numpy, packaging, pandas, pillow, protobuf, pyarrow, pydeck, requests, rich, tenacity, toml, tornado, typing-extensions, watchdog\n",
      "Required-by: \n"
     ]
    }
   ],
   "source": [
    "pip show streamlit\n"
   ]
  },
  {
   "cell_type": "code",
   "execution_count": 19,
   "id": "ed35e455-445f-4c53-8033-bcdc40c93f46",
   "metadata": {},
   "outputs": [],
   "source": [
    "import streamlit as st\n",
    "import openai\n",
    "\n",
    "# Function to generate response using OpenAI\n",
    "def generate_response(query, context, model=\"gpt-3.5-turbo\"):\n",
    "    openai.api_key = \"your-api-key-here\"  # Replace with your OpenAI API key\n",
    "    prompt = f\"Using the following context:\\n\\n{context}\\n\\nAnswer this question: {query}\"\n",
    "    \n",
    "    try:\n",
    "        response = openai.ChatCompletion.create(\n",
    "            model=model,\n",
    "            messages=[\n",
    "                {\"role\": \"system\", \"content\": \"You are a helpful assistant.\"},\n",
    "                {\"role\": \"user\", \"content\": prompt}\n",
    "            ]\n",
    "        )\n",
    "        return response['choices'][0]['message']['content']\n",
    "    except Exception as e:\n",
    "        return f\"An error occurred: {e}\"\n",
    "\n",
    "# Streamlit App\n",
    "st.title(\"RAG Pipeline Chat Interface\")\n",
    "st.write(\"Upload PDF files, and ask questions based on their content!\")\n",
    "\n",
    "# File uploader\n",
    "uploaded_file = st.file_uploader(\"Upload a PDF\", type=\"pdf\")\n",
    "if uploaded_file:\n",
    "    st.write(\"File uploaded successfully!\")\n",
    "\n",
    "# Input query\n",
    "query = st.text_input(\"Ask a question:\")\n",
    "if query and uploaded_file:\n",
    "    # For demo purposes, use dummy context (replace with actual PDF processing pipeline)\n",
    "    context = \"This is a sample context extracted from the PDF. Replace with actual implementation.\"\n",
    "    response = generate_response(query, context)\n",
    "    st.write(\"### Response:\")\n",
    "    st.write(response)\n"
   ]
  },
  {
   "cell_type": "code",
   "execution_count": null,
   "id": "ebb16503-d57d-4651-b3d5-7fbfb1f0d67d",
   "metadata": {},
   "outputs": [],
   "source": []
  }
 ],
 "metadata": {
  "kernelspec": {
   "display_name": "Python 3 (ipykernel)",
   "language": "python",
   "name": "python3"
  },
  "language_info": {
   "codemirror_mode": {
    "name": "ipython",
    "version": 3
   },
   "file_extension": ".py",
   "mimetype": "text/x-python",
   "name": "python",
   "nbconvert_exporter": "python",
   "pygments_lexer": "ipython3",
   "version": "3.12.4"
  }
 },
 "nbformat": 4,
 "nbformat_minor": 5
}
