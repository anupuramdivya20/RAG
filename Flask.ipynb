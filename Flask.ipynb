{
 "cells": [
  {
   "cell_type": "code",
   "execution_count": null,
   "id": "5ebf2299-f3e1-44aa-ac14-27ddebd6a91d",
   "metadata": {},
   "outputs": [],
   "source": [
    "pip install flask\n",
    "from flask import Flask, request, jsonify, render_template\n",
    "import openai\n",
    "app = Flask(__name__)\n",
    "openai.api_key = \"your-api-key-here\"  \n",
    "def generate_response(query, context, model=\"gpt-3.5-turbo\"):\n",
    "    \"\"\"\n",
    "    Generate a response using OpenAI's ChatCompletion API.\n",
    "    \"\"\"\n",
    "    prompt = f\"Using the following context:\\n\\n{context}\\n\\nAnswer this question: {query}\"\n",
    "    \n",
    "    try:\n",
    "        response = openai.ChatCompletion.create(\n",
    "            model=model,\n",
    "            messages=[\n",
    "                {\"role\": \"system\", \"content\": \"You are a helpful assistant.\"},\n",
    "                {\"role\": \"user\", \"content\": prompt}\n",
    "            ]\n",
    "        )\n",
    "        return response['choices'][0]['message']['content']\n",
    "    except Exception as e:\n",
    "        return f\"An error occurred: {e}\"\n",
    "\n",
    "@app.route('/')\n",
    "def index():\n",
    "    return render_template('index.html')  \n",
    "\n",
    "@app.route('/query', methods=['POST'])\n",
    "def query():\n",
    "    data = request.json\n",
    "    query = data.get('query')\n",
    "    context = \"This is a sample context extracted from the PDF. Replace with actual implementation.\"\n",
    "    response = generate_response(query, context)\n",
    "    return jsonify({\"response\": response})\n",
    "\n",
    "if __name__ == '__main__':\n",
    "    app.run(debug=True)\n"
   ]
  }
 ],
 "metadata": {
  "kernelspec": {
   "display_name": "Python 3 (ipykernel)",
   "language": "python",
   "name": "python3"
  },
  "language_info": {
   "codemirror_mode": {
    "name": "ipython",
    "version": 3
   },
   "file_extension": ".py",
   "mimetype": "text/x-python",
   "name": "python",
   "nbconvert_exporter": "python",
   "pygments_lexer": "ipython3",
   "version": "3.12.4"
  }
 },
 "nbformat": 4,
 "nbformat_minor": 5
}
